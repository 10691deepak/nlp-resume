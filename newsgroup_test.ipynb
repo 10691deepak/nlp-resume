{
 "cells": [
  {
   "cell_type": "code",
   "execution_count": 1,
   "metadata": {
    "collapsed": false
   },
   "outputs": [],
   "source": [
    "## plot boilerplate\n",
    "%matplotlib inline\n",
    "import pandas as pd\n",
    "import matplotlib as mpl\n",
    "import matplotlib.pyplot as plt\n",
    "import seaborn as sns\n",
    "sns.set(style=\"whitegrid\", color_codes=True)\n",
    "mpl.rcParams['figure.figsize'] = (12.0, 8.0)"
   ]
  },
  {
   "cell_type": "markdown",
   "metadata": {},
   "source": [
    "## Scikit Learn \"Working with Text\" Example\n",
    "\n",
    "In the [Scikit Learn](http://scikit-learn.org/stable/) documentation there is an [article](http://scikit-learn.org/stable/tutorial/text_analytics/working_with_text_data.html) providing details about using Scikit learn to perform classification on the newsgroup data set.  One example in the article that produces good results is as follows:"
   ]
  },
  {
   "cell_type": "code",
   "execution_count": 2,
   "metadata": {
    "collapsed": false
   },
   "outputs": [
    {
     "data": {
      "text/plain": [
       "0.9127829560585885"
      ]
     },
     "execution_count": 2,
     "metadata": {},
     "output_type": "execute_result"
    }
   ],
   "source": [
    "import numpy as np\n",
    "from sklearn.pipeline import Pipeline\n",
    "from sklearn.feature_extraction.text import CountVectorizer\n",
    "from sklearn.feature_extraction.text import TfidfTransformer\n",
    "from sklearn.linear_model import SGDClassifier\n",
    "from sklearn.datasets import fetch_20newsgroups\n",
    "\n",
    "categories = ['alt.atheism', 'soc.religion.christian', 'comp.graphics', 'sci.med']\n",
    "twenty_train = fetch_20newsgroups(subset='train',\n",
    "                                  categories=categories, shuffle=True, random_state=42)\n",
    "twenty_test = fetch_20newsgroups(subset='test',\n",
    "                                 categories=categories, shuffle=True, random_state=42)\n",
    "\n",
    "text_clf = Pipeline([('vect', CountVectorizer()),\n",
    "                   ('tfidf', TfidfTransformer()),\n",
    "                   ('clf', SGDClassifier(loss='hinge', penalty='l2',\n",
    "                                        alpha=1e-3, n_iter=5, random_state=42)),\n",
    "])\n",
    "_ = text_clf.fit(twenty_train.data, twenty_train.target)\n",
    "predicted = text_clf.predict(twenty_test.data)\n",
    "np.mean(predicted == twenty_test.target) "
   ]
  },
  {
   "cell_type": "markdown",
   "metadata": {},
   "source": [
    "## Purpose of this Notebook\n",
    "\n",
    "The rest of this notebook adapts the above example for the purposes of learning more about:\n",
    "\n",
    "- sklearn pipelines\n",
    "- custom sklearn TransformerMixins and BaseEstimators\n",
    "- feeding sklearn pipelines from jsonl files\n",
    "\n",
    "The classification problem being tested is slightly different than the one presented above. Namely:\n",
    "\n",
    "- the data is in jsonl format.. that is line delimited json dictionaries with keys for content and label\n",
    "- the classification problem is binary\n",
    "\n",
    "---"
   ]
  },
  {
   "cell_type": "markdown",
   "metadata": {},
   "source": [
    "## Preparing Test Data\n",
    "\n",
    "To simulate jsonl file conditions:\n",
    "\n",
    "- First we create a training data set by writing the newsgroup training data to a jsonl file, `test_data/train.jsonl`.  We will use `comp.graphics` as our target class so we will apply the label 1 if the newsgroup article is `comp.graphics` and 0 otherwise. \n",
    "\n",
    "- Next we write all categories from the newsgroup test data set line to a jsonl file, `test_data/test.jsonl` with the labels transformed to 0,1 as above.\n"
   ]
  },
  {
   "cell_type": "code",
   "execution_count": 3,
   "metadata": {
    "collapsed": false
   },
   "outputs": [],
   "source": [
    "## prepare the data for testing\n",
    "import json\n",
    "\n",
    "def ng_dirname(data_type):\n",
    "    ''' simplify newsgroup jsonl acess, data_type = 'test' or 'train'\n",
    "    '''\n",
    "    return 'test_data/%s.jsonl' % data_type\n",
    "\n",
    "\n",
    "with open(ng_dirname('train'), 'w') as train:\n",
    "    for i in range(len(twenty_train.data)):\n",
    "        json.dump({'label': int(twenty_train.target[i] == 3),\n",
    "                   'name': twenty_train.target_names[twenty_train.target[i]],\n",
    "                   'content': twenty_train.data[i]\n",
    "              }, train)\n",
    "        train.write('\\n')\n",
    "    \n",
    "with open(ng_dirname('test'), 'w') as test:\n",
    "    for i in range(len(twenty_test.data)):\n",
    "        json.dump({'label': int(twenty_test.target[i] == 3),\n",
    "                   'name': twenty_test.target_names[twenty_test.target[i]],\n",
    "                   'content': twenty_test.data[i]\n",
    "                  }, test)\n",
    "        test.write('\\n')"
   ]
  },
  {
   "cell_type": "markdown",
   "metadata": {},
   "source": [
    "Now that we have `train_data.jsonl` and `test_data.jsonl` we can use a modified version of the above example to perform binary classification based off of the jsonl data:"
   ]
  },
  {
   "cell_type": "code",
   "execution_count": 8,
   "metadata": {
    "collapsed": false
   },
   "outputs": [
    {
     "name": "stdout",
     "output_type": "stream",
     "text": [
      "0.936085219707\n"
     ]
    }
   ],
   "source": [
    "import itertools as itt\n",
    "\n",
    "text_clf = Pipeline([('vect', CountVectorizer()),\n",
    "                     ('tfidf', TfidfTransformer()),\n",
    "                     ('clf', SGDClassifier(loss='hinge', penalty='l2',\n",
    "                                           alpha=1e-3, n_iter=5, random_state=42)),\n",
    "])\n",
    "\n",
    "with open(ng_dirname('train'), 'r') as train, open(ng_dirname('test'), 'r') as test:\n",
    "    x, y = itt.tee((json.loads(line) for line in train))\n",
    "    u, v = itt.tee((json.loads(line) for line in test))\n",
    "    predicted = text_clf.fit([i['content'] for i in x],\n",
    "                             [j['label'] for j in y]).predict([i['content'] for i in u])\n",
    "    print(np.mean(predicted == [j['label'] for j in v]))"
   ]
  },
  {
   "cell_type": "markdown",
   "metadata": {},
   "source": [
    "This also performs fairly well.  Switching from `hinge` loss to `perceptron` loss yields slightly better results:"
   ]
  },
  {
   "cell_type": "code",
   "execution_count": 9,
   "metadata": {
    "collapsed": false
   },
   "outputs": [
    {
     "name": "stdout",
     "output_type": "stream",
     "text": [
      "0.93741677763\n"
     ]
    }
   ],
   "source": [
    "text_clf = Pipeline([('vect', CountVectorizer()),\n",
    "                     ('tfidf', TfidfTransformer()),\n",
    "                     ('clf', SGDClassifier(loss='perceptron', penalty='l2',\n",
    "                                           alpha=1e-3, n_iter=5, random_state=42)),\n",
    "])\n",
    "\n",
    "with open(ng_dirname('train'), 'r') as train, open(ng_dirname('test'), 'r') as test:\n",
    "    x, y = itt.tee((json.loads(line) for line in train))\n",
    "    u, v = itt.tee((json.loads(line) for line in test))\n",
    "    predicted = text_clf.fit([i['content'] for i in x],\n",
    "                             [j['label'] for j in y]).predict([i['content'] for i in u])\n",
    "    print(np.mean(predicted == [j['label'] for j in v]))"
   ]
  },
  {
   "cell_type": "markdown",
   "metadata": {},
   "source": [
    "## Calculate Similarity as BaseEstimator\n",
    "\n",
    "---"
   ]
  },
  {
   "cell_type": "code",
   "execution_count": 13,
   "metadata": {
    "collapsed": false
   },
   "outputs": [],
   "source": [
    "from txtprocess import CosineSim\n",
    "\n",
    "pipe = Pipeline([\n",
    "    ('vect', CountVectorizer()),\n",
    "    ('tfidf', TfidfTransformer()),\n",
    "    ('cosine', CosineSim()) \n",
    "])\n",
    "\n",
    "with open(ng_dirname('train'), 'r') as train, open(ng_dirname('test'), 'r') as test:\n",
    "    x, y = itt.tee((json.loads(line) for line in train))\n",
    "    u, v = itt.tee((json.loads(line) for line in test))\n",
    "    d = pipe.fit([i['content'] for i in x],\n",
    "                 [j['label'] for j in y]).predict([i['content'] for i in u])"
   ]
  },
  {
   "cell_type": "markdown",
   "metadata": {},
   "source": [
    "## Examining the Results\n",
    "\n",
    "Above we defined `d` which is a vector of similarity scores for each document.  It is in the same order as the original candidate json list. We can use this order to combine the scores with the labels and generate plots or tables.\n",
    "\n",
    "---"
   ]
  },
  {
   "cell_type": "code",
   "execution_count": 14,
   "metadata": {
    "collapsed": false,
    "scrolled": false
   },
   "outputs": [
    {
     "data": {
      "image/png": "[encoded data removed]",
      "text/plain": [
       "<matplotlib.figure.Figure at 0x111a147f0>"
      ]
     },
     "metadata": {},
     "output_type": "display_data"
    }
   ],
   "source": [
    "with open(ng_dirname('test'), 'r') as cf:\n",
    "    result = [r for r in zip([json.loads(line)['name'] for line in cf], d)]\n",
    "ax = plt.axes()\n",
    "sns.violinplot(x=\"score\", y=\"label\",\n",
    "              data=pd.DataFrame(result, columns=['label', 'score']),\n",
    "              jitter=True)\n",
    "ax.set_title('Plot 1: Cosine Similarity by Label')\n",
    "plt.show()"
   ]
  },
  {
   "cell_type": "markdown",
   "metadata": {
    "collapsed": false
   },
   "source": [
    "From the above plot we can see that the newsgroup data is not highly seperable based on `cosine similarity`. However,  Comparing `comp.graphics` to the other labels in the `Plot 1` above we can see that we get a slight lift."
   ]
  },
  {
   "cell_type": "markdown",
   "metadata": {},
   "source": [
    "## Cosine Similarity as a Feature\n",
    "\n",
    "We can use sklearn `FeatureUnion` to feed cosine similarity as a feature to the `SGDClassifier`."
   ]
  },
  {
   "cell_type": "code",
   "execution_count": 20,
   "metadata": {
    "collapsed": false
   },
   "outputs": [],
   "source": [
    "from txtprocess import CosineSimTrans\n",
    "from sklearn.pipeline import FeatureUnion\n",
    "\n",
    "pipe = Pipeline([\n",
    "        ('union', FeatureUnion(\n",
    "            transformer_list=[\n",
    "                ('trans1', Pipeline([\n",
    "                    ('vect', CountVectorizer()),\n",
    "                    ('tfidf', TfidfTransformer()),\n",
    "                ])),\n",
    "                ('trans2', Pipeline([\n",
    "                    ('vect', CountVectorizer()),\n",
    "                    ('tfidf', TfidfTransformer()),\n",
    "                    ('cosim', CosineSimTrans()),\n",
    "                ])),\n",
    "            ]\n",
    "        )),\n",
    "        ('estimators', Pipeline([\n",
    "                    ('clf', SGDClassifier(loss='perceptron', penalty='l2',\n",
    "                                          alpha=1e-3, n_iter=5, random_state=42))\n",
    "                    ])\n",
    "        )\n",
    "])"
   ]
  },
  {
   "cell_type": "code",
   "execution_count": 21,
   "metadata": {
    "collapsed": false
   },
   "outputs": [
    {
     "name": "stdout",
     "output_type": "stream",
     "text": [
      "0.950732356858\n"
     ]
    }
   ],
   "source": [
    "with open(ng_dirname('train'), 'r') as train, open(ng_dirname('test'), 'r') as test:\n",
    "    x, y = itt.tee((json.loads(line) for line in train))\n",
    "    u, v = itt.tee((json.loads(line) for line in test))\n",
    "    predicted = pipe.fit([i['content'] for i in x],\n",
    "                 [j['label'] for j in y]).predict([i['content'] for i in u])\n",
    "    print(np.mean(predicted == [j['label'] for j in v]))"
   ]
  },
  {
   "cell_type": "markdown",
   "metadata": {},
   "source": [
    "And we have improved our classification's performance on the test data set."
   ]
  }
 ],
 "metadata": {
  "kernelspec": {
   "display_name": "Python 3",
   "language": "python",
   "name": "python3"
  },
  "language_info": {
   "codemirror_mode": {
    "name": "ipython",
    "version": 3
   },
   "file_extension": ".py",
   "mimetype": "text/x-python",
   "name": "python",
   "nbconvert_exporter": "python",
   "pygments_lexer": "ipython3",
   "version": "3.5.1"
  }
 },
 "nbformat": 4,
 "nbformat_minor": 0
}
