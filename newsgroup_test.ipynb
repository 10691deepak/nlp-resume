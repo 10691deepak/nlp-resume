{
 "cells": [
  {
   "cell_type": "markdown",
   "metadata": {},
   "source": [
    "## Prepare Test Data\n",
    "\n",
    "Below we test the pipeline using the newsgroup data set.\n",
    "\n",
    "First we create a target data set by writing newsgroup data labled `comp.graphics` from the training set to one line in a jsonl file, `test/target.jsonl`.  This data set represents combining multiple employee resumes that represent ideal hires for a particular job requisite.\n",
    "\n",
    "Next we write all categories from the newsgroup test data set line by line to a jsonl file, `test/candidate.jsonl`.  Each line in this file represents a candidate's resume for comparison with the target file.\n",
    "\n",
    "If the pipeline works then we would expect that candidate items labeled `comp.graphics` would score higher in general than items with other labels.\n",
    "\n",
    "---"
   ]
  },
  {
   "cell_type": "code",
   "execution_count": 1,
   "metadata": {
    "collapsed": false
   },
   "outputs": [],
   "source": [
    "## prepare the data for testing\n",
    "\n",
    "import json\n",
    "from sklearn.datasets import fetch_20newsgroups\n",
    "\n",
    "categories = ['alt.atheism', 'soc.religion.christian', 'comp.graphics', 'sci.med']\n",
    "twenty_train = fetch_20newsgroups(subset='train',\n",
    "                                  categories=categories, shuffle=True, random_state=42)\n",
    "twenty_test = fetch_20newsgroups(subset='test',\n",
    "                                 categories=categories, shuffle=True, random_state=42)\n",
    "\n",
    "target_content = ''\n",
    "for i in range(len(twenty_train.data)):\n",
    "    if twenty_train.target_names[twenty_train.target[i]] == 'comp.graphics':\n",
    "        target_content += twenty_train.data[i]\n",
    "\n",
    "with open('test/target.jsonl', 'w') as tfile:\n",
    "    json.dump({'name':'target', 'content': target_content}, tfile)\n",
    "\n",
    "with open('test/candidate.jsonl', 'w') as cfile:\n",
    "    for i in range(len(twenty_test.data)):\n",
    "        json.dump({'name': twenty_test.target_names[twenty_test.target[i]],\n",
    "                   'content': twenty_test.data[i]\n",
    "                  }, cfile)\n",
    "        cfile.write('\\n')"
   ]
  },
  {
   "cell_type": "markdown",
   "metadata": {},
   "source": [
    "Next we load the jsonl files into python lists for input into the pipeline.  This process will work directly to target and candidate files created by the `pdftotext` module."
   ]
  },
  {
   "cell_type": "code",
   "execution_count": 2,
   "metadata": {
    "collapsed": false
   },
   "outputs": [],
   "source": [
    "## read in the target and candidate jsonl files for similarity comparision\n",
    "target, candidate = [], []\n",
    "\n",
    "with open('test/target.jsonl', 'r') as f:\n",
    "    for line in f:\n",
    "        target.append(json.loads(line))\n",
    "        \n",
    "with open('test/candidate.jsonl', 'r') as f:\n",
    "    for line in f:\n",
    "        candidate.append(json.loads(line))"
   ]
  },
  {
   "cell_type": "markdown",
   "metadata": {},
   "source": [
    "## Calculate Similarity \n",
    "\n",
    "Now that the data is loaded we can import and use the pipeline.\n",
    "\n",
    "---"
   ]
  },
  {
   "cell_type": "code",
   "execution_count": 3,
   "metadata": {
    "collapsed": false
   },
   "outputs": [],
   "source": [
    "## import the similarity pipeline and perform comparison\n",
    "import main\n",
    "d = main.similarity(target, candidate)"
   ]
  },
  {
   "cell_type": "markdown",
   "metadata": {},
   "source": [
    "## Plot Results\n",
    "\n",
    "Above we defined `d` which is a vector of similarity scores for each document.  It is in the same order as the original candidate json list. We can use this order to combine the scores with the labels and generate plots or tables.\n",
    "\n",
    "---"
   ]
  },
  {
   "cell_type": "code",
   "execution_count": 4,
   "metadata": {
    "collapsed": false,
    "scrolled": false
   },
   "outputs": [
    {
     "data": {
      "image/png": "[encoded data removed]",
      "text/plain": [
       "<matplotlib.figure.Figure at 0x111597438>"
      ]
     },
     "metadata": {},
     "output_type": "display_data"
    }
   ],
   "source": [
    "%matplotlib inline\n",
    "import pandas as pd\n",
    "import matplotlib\n",
    "matplotlib.style.use('ggplot')\n",
    "matplotlib.rcParams['figure.figsize'] = (10.0, 6.0)\n",
    "\n",
    "result = []\n",
    "for i in range(len(candidate)):\n",
    "    result.append((candidate[i]['name'], d[0, i]))\n",
    "result = sorted(result, key=lambda x: x[1], reverse=True)\n",
    "\n",
    "df = pd.DataFrame(result, columns=['label', 'score'])\n",
    "df[:20].plot(kind='bar', x='label', y='score');"
   ]
  },
  {
   "cell_type": "markdown",
   "metadata": {
    "collapsed": false
   },
   "source": [
    "In the plot above we see that `comp.graphics` dominates the top scoring candidates for the test set."
   ]
  }
 ],
 "metadata": {
  "kernelspec": {
   "display_name": "Python 3",
   "language": "python",
   "name": "python3"
  },
  "language_info": {
   "codemirror_mode": {
    "name": "ipython",
    "version": 3
   },
   "file_extension": ".py",
   "mimetype": "text/x-python",
   "name": "python",
   "nbconvert_exporter": "python",
   "pygments_lexer": "ipython3",
   "version": "3.4.4"
  }
 },
 "nbformat": 4,
 "nbformat_minor": 0
}
